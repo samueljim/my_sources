{
 "cells": [
  {
   "cell_type": "markdown",
   "metadata": {},
   "source": [
    "# My Sources Generation"
   ]
  },
  {
   "cell_type": "code",
   "execution_count": 3,
   "metadata": {},
   "outputs": [],
   "source": [
    "from faker import Faker\n",
    "fake = Faker(['en_AU', 'en_US', 'en_UK'])"
   ]
  },
  {
   "cell_type": "code",
   "execution_count": 20,
   "metadata": {},
   "outputs": [
    {
     "data": {
      "text/plain": [
       "True"
      ]
     },
     "execution_count": 20,
     "metadata": {},
     "output_type": "execute_result"
    }
   ],
   "source": [
    "import os\n",
    "from dataclasses import dataclass, field\n",
    "from typing import List\n",
    "from pathlib import Path\n",
    "from datetime import datetime\n",
    "import random\n",
    "import json\n",
    "from pprint import pprint\n",
    "\n",
    "from transformers import pipeline\n",
    "from textblob import TextBlob\n",
    "from dotenv import load_dotenv\n",
    "import pymongo\n",
    "import requests\n",
    "import matplotlib.pyplot as plt\n",
    "from tqdm import tqdm\n",
    "\n",
    "load_dotenv()"
   ]
  },
  {
   "cell_type": "markdown",
   "metadata": {},
   "source": [
    "## Text Generation"
   ]
  },
  {
   "cell_type": "code",
   "execution_count": 5,
   "metadata": {},
   "outputs": [],
   "source": [
    "generator = pipeline('text-generation', framework='pt')"
   ]
  },
  {
   "cell_type": "code",
   "execution_count": 6,
   "metadata": {},
   "outputs": [],
   "source": [
    "def generate_article_from_title(title: str) -> str:\n",
    "    return generator(title, max_length=random.randint(500, 1500))[0]['generated_text']"
   ]
  },
  {
   "cell_type": "markdown",
   "metadata": {},
   "source": [
    "## Summarisation"
   ]
  },
  {
   "cell_type": "code",
   "execution_count": 8,
   "metadata": {},
   "outputs": [],
   "source": [
    "summariser = pipeline('summarization')"
   ]
  },
  {
   "cell_type": "code",
   "execution_count": 10,
   "metadata": {},
   "outputs": [],
   "source": [
    "def generate_summary_from_article(article: str) -> str:\n",
    "    return article[:20]"
   ]
  },
  {
   "cell_type": "markdown",
   "metadata": {},
   "source": [
    "## Keyword Finding"
   ]
  },
  {
   "cell_type": "code",
   "execution_count": 13,
   "metadata": {},
   "outputs": [],
   "source": [
    "def find_keywords_in_article(article: str) -> List[str]:\n",
    "    t = TextBlob(article)\n",
    "    return [word for word, tag in  t.tags if tag == \"NN\"]"
   ]
  },
  {
   "cell_type": "code",
   "execution_count": 14,
   "metadata": {},
   "outputs": [],
   "source": [
    "kws = find_keywords_in_article('On saturday, chris went to the hackathon and ate lots of pizza')"
   ]
  },
  {
   "cell_type": "markdown",
   "metadata": {},
   "source": [
    "## Image Fetching"
   ]
  },
  {
   "cell_type": "code",
   "execution_count": 15,
   "metadata": {},
   "outputs": [],
   "source": [
    "def image_url_from_keywords(keywords: List[str]) -> str:\n",
    "    r = requests.get(f\"https://source.unsplash.com/1600x900/?{','.join(keywords)}\")\n",
    "    return r.url"
   ]
  },
  {
   "cell_type": "code",
   "execution_count": 16,
   "metadata": {},
   "outputs": [],
   "source": [
    "from IPython.display import Image"
   ]
  },
  {
   "cell_type": "code",
   "execution_count": 17,
   "metadata": {},
   "outputs": [],
   "source": [
    "image_url = image_url_from_keywords(kws)"
   ]
  },
  {
   "cell_type": "code",
   "execution_count": 18,
   "metadata": {},
   "outputs": [
    {
     "data": {
      "text/plain": [
       "'https://images.unsplash.com/photo-1593246049226-ded77bf90326?crop=entropy&cs=tinysrgb&fit=crop&fm=jpg&h=900&ixid=eyJhcHBfaWQiOjF9&ixlib=rb-1.2.1&q=80&w=1600'"
      ]
     },
     "execution_count": 18,
     "metadata": {},
     "output_type": "execute_result"
    }
   ],
   "source": [
    "image_url"
   ]
  },
  {
   "cell_type": "markdown",
   "metadata": {},
   "source": [
    "## Mongo Connection"
   ]
  },
  {
   "cell_type": "code",
   "execution_count": 21,
   "metadata": {},
   "outputs": [],
   "source": [
    "client = pymongo.MongoClient(os.environ.get('mongo'))\n",
    "db = client.news\n",
    "collection = db.sources"
   ]
  },
  {
   "cell_type": "markdown",
   "metadata": {},
   "source": [
    "## DataModel"
   ]
  },
  {
   "cell_type": "code",
   "execution_count": 22,
   "metadata": {},
   "outputs": [],
   "source": [
    "@dataclass\n",
    "class Post:\n",
    "    title: str = None\n",
    "    category: str = None\n",
    "    author: str = field(default_factory=lambda: fake.name())\n",
    "    description: str = None\n",
    "    image: str = None\n",
    "    slug: str = None\n",
    "    html: str = None\n",
    "    tags: List[str] = None\n",
    "    date: str = field(default_factory=lambda: fake.date_this_year().isoformat())\n",
    "    _id: str = None\n",
    "        \n",
    "    def to_dict(self):\n",
    "        return self.__dict__\n",
    "    \n",
    "    def to_json(self):\n",
    "        return json.dumps(self.to_dict())\n",
    "    \n",
    "    def fill_nones(self):\n",
    "        if self.html is None:\n",
    "            self.html = generate_article_from_title(title=self.title)\n",
    "        if self.description is None:\n",
    "            self.description = generate_summary_from_article(article=self.html)\n",
    "        if self.tags is None:\n",
    "            self.tags = find_keywords_in_article(self.html)\n",
    "        if self.image is None or \"picsum\" in self.image:\n",
    "            self.image = image_url_from_keywords(self.tags)\n",
    "            \n",
    "    def update(self):\n",
    "        collection.update_one({\"slug\": self.slug}, {'$set': self.to_dict()})\n",
    "            \n",
    "    def pretty(self):\n",
    "        pprint(self.to_dict())"
   ]
  },
  {
   "cell_type": "markdown",
   "metadata": {},
   "source": [
    "## Fill Empties"
   ]
  },
  {
   "cell_type": "code",
   "execution_count": 31,
   "metadata": {},
   "outputs": [
    {
     "name": "stdout",
     "output_type": "stream",
     "text": [
      "{'_id': ObjectId('5f8b8d9a510e95000873d4e7'), 'title': \"Order Some Bubble Tea And We'll Guess Your Zodiac Sign With 97.3% Accuracy\", 'slug': 'order-some-bubble-tea-and-well-guess-your-zodiac-sign-with-973-accuracy', 'category': 'Culture', 'author': 'Joel Kassulke III', 'date': '2020-10-18T00:34:33.350Z', 'image': 'https://picsum.photos/300/180'}\n",
      "{'_id': ObjectId('5f8b8ed796a0da0007759956'), 'title': 'The Catholic Church is ‘disgraced’ by ‘selling out to China’', 'slug': 'the-catholic-church-is-disgraced-by-selling-out-to-china', 'category': 'World', 'author': 'Jackie Kris', 'date': '2020-10-18T00:39:50.050Z', 'image': 'https://picsum.photos/300/180'}\n",
      "{'_id': ObjectId('5f8b8f0175e6fa0008203097'), 'title': 'Invest in Amazon from $250. You could earn up to $2000!', 'slug': 'invest-in-amazon-from-250-you-could-earn-up-to-2000', 'category': 'Business', 'author': 'Johnathan Ebert', 'date': '2020-10-18T00:40:32.232Z', 'image': 'https://picsum.photos/300/180'}\n"
     ]
    }
   ],
   "source": [
    "for empty in collection.find({\"description\": None}):\n",
    "    print(empty)"
   ]
  },
  {
   "cell_type": "code",
   "execution_count": null,
   "metadata": {},
   "outputs": [
    {
     "name": "stderr",
     "output_type": "stream",
     "text": [
      "0it [00:00, ?it/s]Setting `pad_token_id` to 50256 (first `eos_token_id`) to generate sequence\n"
     ]
    },
    {
     "name": "stdout",
     "output_type": "stream",
     "text": [
      "{'_id': ObjectId('5f8b8d9a510e95000873d4e7'), 'title': \"Order Some Bubble Tea And We'll Guess Your Zodiac Sign With 97.3% Accuracy\", 'slug': 'order-some-bubble-tea-and-well-guess-your-zodiac-sign-with-973-accuracy', 'category': 'Culture', 'author': 'Joel Kassulke III', 'date': '2020-10-18T00:34:33.350Z', 'image': 'https://picsum.photos/300/180'}\n"
     ]
    }
   ],
   "source": [
    "for empty in tqdm(collection.find({\"description\": None})):\n",
    "    print(empty)\n",
    "    to_fill = Post(**empty)\n",
    "    to_fill.fill_nones()\n",
    "    collection.update_one({\"_id\": to_fill._id}, {'$set': to_fill.to_dict()})"
   ]
  }
 ],
 "metadata": {
  "kernelspec": {
   "display_name": "Python 3",
   "language": "python",
   "name": "python3"
  },
  "language_info": {
   "codemirror_mode": {
    "name": "ipython",
    "version": 3
   },
   "file_extension": ".py",
   "mimetype": "text/x-python",
   "name": "python",
   "nbconvert_exporter": "python",
   "pygments_lexer": "ipython3",
   "version": "3.8.5"
  }
 },
 "nbformat": 4,
 "nbformat_minor": 4
}
