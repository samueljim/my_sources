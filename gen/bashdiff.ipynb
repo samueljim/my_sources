{
 "cells": [
  {
   "cell_type": "code",
   "execution_count": 1,
   "metadata": {},
   "outputs": [],
   "source": [
    "def myers_diff(a, b):\n",
    "    # get length of respective elements\n",
    "    m, n = len(a), len(b)\n",
    "\n",
    "    # the maximum possible D-path is the one where we delete\n",
    "    # all elements from string A and insert all elements\n",
    "    # from string B.\n",
    "    MAX = m + n\n",
    "\n",
    "    # initialize our V array, which contains the row indeces of the\n",
    "    # endpoints of the furthest-reaching D-paths in V[-D], V[-D+2], ...\n",
    "    # V[D-2], V[D]. Since the sets of furthest-reaching D-paths of even\n",
    "    # and odd diagonals are disjoint, we can use the same array to\n",
    "    # store odd endpoints whilst we use them to compute the even ones.\n",
    "    v = [-1 for i in range(2 * MAX + 1)]\n",
    "\n",
    "    # we set V[1] = 0 so that the algorithm behaves as if it starts from\n",
    "    # an imaginary move downwards from (x,y) = (0, -1)\n",
    "    v[1] = 0\n",
    "\n",
    "    trace = []\n",
    "\n",
    "    # for each possible -D to D-path, starting at 0\n",
    "    for d in range(MAX+1):\n",
    "        for k in range(-d, d+1, 2):\n",
    "            print(f\"{d=} | {k=}\")\n",
    "            # we take a single step downwards (keeping x the same)\n",
    "            # if these conditions hold, or we go rightwards if not\n",
    "            if k == -d or (k != d and v[k - 1] < v[k + 1]):\n",
    "                x = v[k + 1]\n",
    "            else:\n",
    "                x = v[k - 1] + 1\n",
    "            # y is calculated from x and k\n",
    "            y = x - k\n",
    "            # compute the \"snake\" at the end of the d-path\n",
    "            # as far as we can go.\n",
    "            while x < m and y < n and a[x] == b[y]:\n",
    "                x, y = x + 1, y + 1\n",
    "            # add our endpoint to v\n",
    "            v[k] = x\n",
    "            # if we've reached the end of the graph, return the current trace\n",
    "            if x >= n and y >= m:\n",
    "                return trace\n",
    "        trace.append(v[:])\n",
    "    raise Exception(\"SES is longer than max length\")"
   ]
  },
  {
   "cell_type": "code",
   "execution_count": 2,
   "metadata": {},
   "outputs": [
    {
     "name": "stdout",
     "output_type": "stream",
     "text": [
      "d=0 | k=0\n",
      "d=1 | k=-1\n",
      "d=1 | k=1\n",
      "d=2 | k=-2\n",
      "d=2 | k=0\n",
      "d=2 | k=2\n",
      "d=3 | k=-3\n",
      "d=3 | k=-1\n",
      "d=3 | k=1\n",
      "d=3 | k=3\n",
      "d=4 | k=-4\n",
      "d=4 | k=-2\n"
     ]
    },
    {
     "data": {
      "text/plain": [
       "[[0, 0, -1, -1, -1, -1, -1, -1, -1, -1, -1, -1, -1],\n",
       " [0, 1, -1, -1, -1, -1, -1, -1, -1, -1, -1, -1, 0],\n",
       " [2, 1, 2, -1, -1, -1, -1, -1, -1, -1, -1, 0, 0],\n",
       " [2, 3, 2, 3, -1, -1, -1, -1, -1, -1, 0, 0, 2]]"
      ]
     },
     "execution_count": 2,
     "metadata": {},
     "output_type": "execute_result"
    }
   ],
   "source": [
    "myers_diff(\"help\", \"me\")"
   ]
  },
  {
   "cell_type": "code",
   "execution_count": 5,
   "metadata": {},
   "outputs": [
    {
     "name": "stdout",
     "output_type": "stream",
     "text": [
      "yeet\n"
     ]
    }
   ],
   "source": [
    "%%bash\n",
    "echo yeet"
   ]
  },
  {
   "cell_type": "code",
   "execution_count": 4,
   "metadata": {},
   "outputs": [
    {
     "name": "stdout",
     "output_type": "stream",
     "text": [
      "starting bash\n",
      "starting loop\n",
      "d0 k0\n",
      "d1 k-1\n",
      "d1 k1\n",
      "d2 k-2\n",
      "d2 k0\n",
      "d2 k2\n",
      "d3 k-3\n",
      "d3 k-1\n",
      "d3 k1\n",
      "d3 k3\n",
      "d4 k-4\n"
     ]
    },
    {
     "name": "stderr",
     "output_type": "stream",
     "text": [
      "bash: line 26: V: bad array subscript\n"
     ]
    },
    {
     "ename": "CalledProcessError",
     "evalue": "Command 'b'set -e\\n\\necho \\'starting bash\\'\\n\\na=\\'help\\'\\nb=\\'me\\'\\n\\nm=\"${#a}\"\\nn=\"${#b}\"\\n\\nmax=$((m + n))\\nvlen=$((2 * max + 1))\\n\\ndeclare -a V=($(for i in {1..$vlen}; do echo -1; done) )\\nV[1]=0\\ntrace=()\\n\\necho \\'starting loop\\'\\nfor d in $(seq 0 $((max+1))); do\\n    for k in $(seq $((-d)) 2 $((d+1))); do\\n    \\n        echo \"d$d k$k\"\\n        \\n        thing=$[k == -d] || ($[k != d] && $[${V[k-1]} < ${V[k+1]}])\\n        if [ $thing == 1 ]; then\\n            x=$[${V[k+1]}]\\n        else\\n            x=$[${V[k-1]} + 1]\\n        fi\\n        \\n#         y=$((x - k))\\n        \\n#         thing=$((x < m))# && $[y<n] && $[ ${a[x]} == ${b[y]} ]\\n#         while [ $thing == 1 ]; do\\n#             echo $thing\\n#             x=$((x+1))\\n#             y=$((y+1))\\n#         done\\n    done\\ndone\\n'' returned non-zero exit status 1.",
     "output_type": "error",
     "traceback": [
      "\u001b[0;31m---------------------------------------------------------------------------\u001b[0m",
      "\u001b[0;31mCalledProcessError\u001b[0m                        Traceback (most recent call last)",
      "\u001b[0;32m<ipython-input-4-eb9e5e23a7a8>\u001b[0m in \u001b[0;36m<module>\u001b[0;34m\u001b[0m\n\u001b[0;32m----> 1\u001b[0;31m \u001b[0mget_ipython\u001b[0m\u001b[0;34m(\u001b[0m\u001b[0;34m)\u001b[0m\u001b[0;34m.\u001b[0m\u001b[0mrun_cell_magic\u001b[0m\u001b[0;34m(\u001b[0m\u001b[0;34m'bash'\u001b[0m\u001b[0;34m,\u001b[0m \u001b[0;34m''\u001b[0m\u001b[0;34m,\u001b[0m \u001b[0;34m'set -e\\n\\necho \\'starting bash\\'\\n\\na=\\'help\\'\\nb=\\'me\\'\\n\\nm=\"${#a}\"\\nn=\"${#b}\"\\n\\nmax=$((m + n))\\nvlen=$((2 * max + 1))\\n\\ndeclare -a V=($(for i in {1..$vlen}; do echo -1; done) )\\nV[1]=0\\ntrace=()\\n\\necho \\'starting loop\\'\\nfor d in $(seq 0 $((max+1))); do\\n    for k in $(seq $((-d)) 2 $((d+1))); do\\n    \\n        echo \"d$d k$k\"\\n        \\n        thing=$[k == -d] || ($[k != d] && $[${V[k-1]} < ${V[k+1]}])\\n        if [ $thing == 1 ]; then\\n            x=$[${V[k+1]}]\\n        else\\n            x=$[${V[k-1]} + 1]\\n        fi\\n        \\n#         y=$((x - k))\\n        \\n#         thing=$((x < m))# && $[y<n] && $[ ${a[x]} == ${b[y]} ]\\n#         while [ $thing == 1 ]; do\\n#             echo $thing\\n#             x=$((x+1))\\n#             y=$((y+1))\\n#         done\\n    done\\ndone\\n'\u001b[0m\u001b[0;34m)\u001b[0m\u001b[0;34m\u001b[0m\u001b[0;34m\u001b[0m\u001b[0m\n\u001b[0m",
      "\u001b[0;32m~/miniconda3/envs/thalience/lib/python3.8/site-packages/IPython/core/interactiveshell.py\u001b[0m in \u001b[0;36mrun_cell_magic\u001b[0;34m(self, magic_name, line, cell)\u001b[0m\n\u001b[1;32m   2379\u001b[0m             \u001b[0;32mwith\u001b[0m \u001b[0mself\u001b[0m\u001b[0;34m.\u001b[0m\u001b[0mbuiltin_trap\u001b[0m\u001b[0;34m:\u001b[0m\u001b[0;34m\u001b[0m\u001b[0;34m\u001b[0m\u001b[0m\n\u001b[1;32m   2380\u001b[0m                 \u001b[0margs\u001b[0m \u001b[0;34m=\u001b[0m \u001b[0;34m(\u001b[0m\u001b[0mmagic_arg_s\u001b[0m\u001b[0;34m,\u001b[0m \u001b[0mcell\u001b[0m\u001b[0;34m)\u001b[0m\u001b[0;34m\u001b[0m\u001b[0;34m\u001b[0m\u001b[0m\n\u001b[0;32m-> 2381\u001b[0;31m                 \u001b[0mresult\u001b[0m \u001b[0;34m=\u001b[0m \u001b[0mfn\u001b[0m\u001b[0;34m(\u001b[0m\u001b[0;34m*\u001b[0m\u001b[0margs\u001b[0m\u001b[0;34m,\u001b[0m \u001b[0;34m**\u001b[0m\u001b[0mkwargs\u001b[0m\u001b[0;34m)\u001b[0m\u001b[0;34m\u001b[0m\u001b[0;34m\u001b[0m\u001b[0m\n\u001b[0m\u001b[1;32m   2382\u001b[0m             \u001b[0;32mreturn\u001b[0m \u001b[0mresult\u001b[0m\u001b[0;34m\u001b[0m\u001b[0;34m\u001b[0m\u001b[0m\n\u001b[1;32m   2383\u001b[0m \u001b[0;34m\u001b[0m\u001b[0m\n",
      "\u001b[0;32m~/miniconda3/envs/thalience/lib/python3.8/site-packages/IPython/core/magics/script.py\u001b[0m in \u001b[0;36mnamed_script_magic\u001b[0;34m(line, cell)\u001b[0m\n\u001b[1;32m    140\u001b[0m             \u001b[0;32melse\u001b[0m\u001b[0;34m:\u001b[0m\u001b[0;34m\u001b[0m\u001b[0;34m\u001b[0m\u001b[0m\n\u001b[1;32m    141\u001b[0m                 \u001b[0mline\u001b[0m \u001b[0;34m=\u001b[0m \u001b[0mscript\u001b[0m\u001b[0;34m\u001b[0m\u001b[0;34m\u001b[0m\u001b[0m\n\u001b[0;32m--> 142\u001b[0;31m             \u001b[0;32mreturn\u001b[0m \u001b[0mself\u001b[0m\u001b[0;34m.\u001b[0m\u001b[0mshebang\u001b[0m\u001b[0;34m(\u001b[0m\u001b[0mline\u001b[0m\u001b[0;34m,\u001b[0m \u001b[0mcell\u001b[0m\u001b[0;34m)\u001b[0m\u001b[0;34m\u001b[0m\u001b[0;34m\u001b[0m\u001b[0m\n\u001b[0m\u001b[1;32m    143\u001b[0m \u001b[0;34m\u001b[0m\u001b[0m\n\u001b[1;32m    144\u001b[0m         \u001b[0;31m# write a basic docstring:\u001b[0m\u001b[0;34m\u001b[0m\u001b[0;34m\u001b[0m\u001b[0;34m\u001b[0m\u001b[0m\n",
      "\u001b[0;32m<decorator-gen-103>\u001b[0m in \u001b[0;36mshebang\u001b[0;34m(self, line, cell)\u001b[0m\n",
      "\u001b[0;32m~/miniconda3/envs/thalience/lib/python3.8/site-packages/IPython/core/magic.py\u001b[0m in \u001b[0;36m<lambda>\u001b[0;34m(f, *a, **k)\u001b[0m\n\u001b[1;32m    185\u001b[0m     \u001b[0;31m# but it's overkill for just that one bit of state.\u001b[0m\u001b[0;34m\u001b[0m\u001b[0;34m\u001b[0m\u001b[0;34m\u001b[0m\u001b[0m\n\u001b[1;32m    186\u001b[0m     \u001b[0;32mdef\u001b[0m \u001b[0mmagic_deco\u001b[0m\u001b[0;34m(\u001b[0m\u001b[0marg\u001b[0m\u001b[0;34m)\u001b[0m\u001b[0;34m:\u001b[0m\u001b[0;34m\u001b[0m\u001b[0;34m\u001b[0m\u001b[0m\n\u001b[0;32m--> 187\u001b[0;31m         \u001b[0mcall\u001b[0m \u001b[0;34m=\u001b[0m \u001b[0;32mlambda\u001b[0m \u001b[0mf\u001b[0m\u001b[0;34m,\u001b[0m \u001b[0;34m*\u001b[0m\u001b[0ma\u001b[0m\u001b[0;34m,\u001b[0m \u001b[0;34m**\u001b[0m\u001b[0mk\u001b[0m\u001b[0;34m:\u001b[0m \u001b[0mf\u001b[0m\u001b[0;34m(\u001b[0m\u001b[0;34m*\u001b[0m\u001b[0ma\u001b[0m\u001b[0;34m,\u001b[0m \u001b[0;34m**\u001b[0m\u001b[0mk\u001b[0m\u001b[0;34m)\u001b[0m\u001b[0;34m\u001b[0m\u001b[0;34m\u001b[0m\u001b[0m\n\u001b[0m\u001b[1;32m    188\u001b[0m \u001b[0;34m\u001b[0m\u001b[0m\n\u001b[1;32m    189\u001b[0m         \u001b[0;32mif\u001b[0m \u001b[0mcallable\u001b[0m\u001b[0;34m(\u001b[0m\u001b[0marg\u001b[0m\u001b[0;34m)\u001b[0m\u001b[0;34m:\u001b[0m\u001b[0;34m\u001b[0m\u001b[0;34m\u001b[0m\u001b[0m\n",
      "\u001b[0;32m~/miniconda3/envs/thalience/lib/python3.8/site-packages/IPython/core/magics/script.py\u001b[0m in \u001b[0;36mshebang\u001b[0;34m(self, line, cell)\u001b[0m\n\u001b[1;32m    243\u001b[0m             \u001b[0msys\u001b[0m\u001b[0;34m.\u001b[0m\u001b[0mstderr\u001b[0m\u001b[0;34m.\u001b[0m\u001b[0mflush\u001b[0m\u001b[0;34m(\u001b[0m\u001b[0;34m)\u001b[0m\u001b[0;34m\u001b[0m\u001b[0;34m\u001b[0m\u001b[0m\n\u001b[1;32m    244\u001b[0m         \u001b[0;32mif\u001b[0m \u001b[0margs\u001b[0m\u001b[0;34m.\u001b[0m\u001b[0mraise_error\u001b[0m \u001b[0;32mand\u001b[0m \u001b[0mp\u001b[0m\u001b[0;34m.\u001b[0m\u001b[0mreturncode\u001b[0m\u001b[0;34m!=\u001b[0m\u001b[0;36m0\u001b[0m\u001b[0;34m:\u001b[0m\u001b[0;34m\u001b[0m\u001b[0;34m\u001b[0m\u001b[0m\n\u001b[0;32m--> 245\u001b[0;31m             \u001b[0;32mraise\u001b[0m \u001b[0mCalledProcessError\u001b[0m\u001b[0;34m(\u001b[0m\u001b[0mp\u001b[0m\u001b[0;34m.\u001b[0m\u001b[0mreturncode\u001b[0m\u001b[0;34m,\u001b[0m \u001b[0mcell\u001b[0m\u001b[0;34m,\u001b[0m \u001b[0moutput\u001b[0m\u001b[0;34m=\u001b[0m\u001b[0mout\u001b[0m\u001b[0;34m,\u001b[0m \u001b[0mstderr\u001b[0m\u001b[0;34m=\u001b[0m\u001b[0merr\u001b[0m\u001b[0;34m)\u001b[0m\u001b[0;34m\u001b[0m\u001b[0;34m\u001b[0m\u001b[0m\n\u001b[0m\u001b[1;32m    246\u001b[0m \u001b[0;34m\u001b[0m\u001b[0m\n\u001b[1;32m    247\u001b[0m     \u001b[0;32mdef\u001b[0m \u001b[0m_run_script\u001b[0m\u001b[0;34m(\u001b[0m\u001b[0mself\u001b[0m\u001b[0;34m,\u001b[0m \u001b[0mp\u001b[0m\u001b[0;34m,\u001b[0m \u001b[0mcell\u001b[0m\u001b[0;34m,\u001b[0m \u001b[0mto_close\u001b[0m\u001b[0;34m)\u001b[0m\u001b[0;34m:\u001b[0m\u001b[0;34m\u001b[0m\u001b[0;34m\u001b[0m\u001b[0m\n",
      "\u001b[0;31mCalledProcessError\u001b[0m: Command 'b'set -e\\n\\necho \\'starting bash\\'\\n\\na=\\'help\\'\\nb=\\'me\\'\\n\\nm=\"${#a}\"\\nn=\"${#b}\"\\n\\nmax=$((m + n))\\nvlen=$((2 * max + 1))\\n\\ndeclare -a V=($(for i in {1..$vlen}; do echo -1; done) )\\nV[1]=0\\ntrace=()\\n\\necho \\'starting loop\\'\\nfor d in $(seq 0 $((max+1))); do\\n    for k in $(seq $((-d)) 2 $((d+1))); do\\n    \\n        echo \"d$d k$k\"\\n        \\n        thing=$[k == -d] || ($[k != d] && $[${V[k-1]} < ${V[k+1]}])\\n        if [ $thing == 1 ]; then\\n            x=$[${V[k+1]}]\\n        else\\n            x=$[${V[k-1]} + 1]\\n        fi\\n        \\n#         y=$((x - k))\\n        \\n#         thing=$((x < m))# && $[y<n] && $[ ${a[x]} == ${b[y]} ]\\n#         while [ $thing == 1 ]; do\\n#             echo $thing\\n#             x=$((x+1))\\n#             y=$((y+1))\\n#         done\\n    done\\ndone\\n'' returned non-zero exit status 1."
     ]
    }
   ],
   "source": [
    "%%bash\n",
    "set -e\n",
    "\n",
    "echo 'starting bash'\n",
    "\n",
    "a='help'\n",
    "b='me'\n",
    "\n",
    "m=\"${#a}\"\n",
    "n=\"${#b}\"\n",
    "\n",
    "max=$((m + n))\n",
    "vlen=$((2 * max + 1))\n",
    "\n",
    "declare -a V=($(for i in {1..$vlen}; do echo -1; done) )\n",
    "V[1]=0\n",
    "trace=()\n",
    "\n",
    "echo 'starting loop'\n",
    "for d in $(seq 0 $((max+1))); do\n",
    "    for k in $(seq $((-d)) 2 $((d+1))); do\n",
    "    \n",
    "        echo \"d$d k$k\"\n",
    "        \n",
    "        thing=$[k == -d] || ($[k != d] && $[${V[k-1]} < ${V[k+1]}])\n",
    "        if [ $thing == 1 ]; then\n",
    "            x=$[${V[k+1]}]\n",
    "        else\n",
    "            x=$[${V[k-1]} + 1]\n",
    "        fi\n",
    "        \n",
    "#         y=$((x - k))\n",
    "        \n",
    "#         thing=$((x < m))# && $[y<n] && $[ ${a[x]} == ${b[y]} ]\n",
    "#         while [ $thing == 1 ]; do\n",
    "#             echo $thing\n",
    "#             x=$((x+1))\n",
    "#             y=$((y+1))\n",
    "#         done\n",
    "    done\n",
    "done"
   ]
  },
  {
   "cell_type": "code",
   "execution_count": null,
   "metadata": {},
   "outputs": [],
   "source": []
  }
 ],
 "metadata": {
  "kernelspec": {
   "display_name": "Python 3",
   "language": "python",
   "name": "python3"
  },
  "language_info": {
   "codemirror_mode": {
    "name": "ipython",
    "version": 3
   },
   "file_extension": ".py",
   "mimetype": "text/x-python",
   "name": "python",
   "nbconvert_exporter": "python",
   "pygments_lexer": "ipython3",
   "version": "3.8.5"
  }
 },
 "nbformat": 4,
 "nbformat_minor": 4
}
